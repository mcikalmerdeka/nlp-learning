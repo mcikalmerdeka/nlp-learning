{
 "cells": [
  {
   "cell_type": "code",
   "execution_count": 1,
   "id": "fc9638b5",
   "metadata": {},
   "outputs": [],
   "source": [
    "# Project setup\n",
    "from dotenv import load_dotenv\n",
    "import os\n",
    "\n",
    "load_dotenv()\n",
    "api_key = os.getenv(\"OPENAI_API_KEY\")"
   ]
  },
  {
   "cell_type": "markdown",
   "id": "51a45117",
   "metadata": {},
   "source": [
    "## LLM Graph Transformer"
   ]
  },
  {
   "cell_type": "code",
   "execution_count": 2,
   "id": "30b97b9d",
   "metadata": {},
   "outputs": [],
   "source": [
    "from langchain_experimental.graph_transformers import LLMGraphTransformer\n",
    "from langchain_core.documents import Document\n",
    "from langchain_openai import ChatOpenAI\n",
    "\n",
    "# Initialize the LLM\n",
    "llm = ChatOpenAI(model=\"gpt-4.1\", temperature=0, openai_api_key=api_key)\n",
    "\n",
    "# Initialize the graph transformer\n",
    "graph_transformer = LLMGraphTransformer(llm=llm)"
   ]
  },
  {
   "cell_type": "code",
   "execution_count": 3,
   "id": "e63297a2",
   "metadata": {},
   "outputs": [
    {
     "name": "stdout",
     "output_type": "stream",
     "text": [
      "File read successfully\n"
     ]
    }
   ],
   "source": [
    "# Load the information file that we want to process\n",
    "with open(\"elon_musk_profile.txt\", \"r\") as file:\n",
    "    content = file.read()\n",
    "\n",
    "if content:\n",
    "    print(\"File read successfully\")"
   ]
  },
  {
   "cell_type": "code",
   "execution_count": 4,
   "id": "46a0b2d5",
   "metadata": {},
   "outputs": [],
   "source": [
    "# Create the list of graph documents\n",
    "documents = [Document(page_content=content)]\n",
    "graph_documents = await graph_transformer.aconvert_to_graph_documents(documents)"
   ]
  },
  {
   "cell_type": "code",
   "execution_count": 5,
   "id": "fd7a1ab8",
   "metadata": {},
   "outputs": [
    {
     "name": "stdout",
     "output_type": "stream",
     "text": [
      "Nodes: [Node(id='Elon Reeve Musk', type='Person', properties={}), Node(id='Maye Musk', type='Person', properties={}), Node(id='Errol Musk', type='Person', properties={}), Node(id='Pretoria, South Africa', type='Place', properties={}), Node(id='June 28, 1971', type='Date', properties={}), Node(id=\"Queen'S University\", type='Organization', properties={}), Node(id='University Of Pennsylvania', type='Organization', properties={}), Node(id='Stanford University', type='Organization', properties={}), Node(id='Tesla Inc.', type='Organization', properties={}), Node(id='Spacex', type='Organization', properties={}), Node(id='X', type='Organization', properties={}), Node(id='Neuralink', type='Organization', properties={}), Node(id='The Boring Company', type='Organization', properties={}), Node(id='Xai', type='Organization', properties={}), Node(id='Openai', type='Organization', properties={}), Node(id='Starlink', type='Organization', properties={}), Node(id='Falcon 9', type='Product', properties={}), Node(id='Falcon Heavy', type='Product', properties={}), Node(id='Starship', type='Product', properties={}), Node(id='Model S', type='Product', properties={}), Node(id='Model 3', type='Product', properties={}), Node(id='Model X', type='Product', properties={}), Node(id='Model Y', type='Product', properties={}), Node(id='Cybertruck', type='Product', properties={}), Node(id='Powerwall', type='Product', properties={}), Node(id='Powerpack', type='Product', properties={}), Node(id='Solar Panels', type='Product', properties={}), Node(id='Solar Roof Tiles', type='Product', properties={}), Node(id='Full Self-Driving', type='Product', properties={}), Node(id='Ai5 Chips', type='Product', properties={}), Node(id='Ai4 Chips', type='Product', properties={}), Node(id='Robotaxi', type='Product', properties={}), Node(id='Mars Colonization', type='Concept', properties={}), Node(id='United States Space Force', type='Organization', properties={}), Node(id='Donald Trump', type='Person', properties={}), Node(id='Department Of Government Efficiency', type='Organization', properties={}), Node(id=\"Time Magazine'S 100 Most Influential People Of 2025\", type='Award', properties={}), Node(id='2025 Wash100 Award', type='Award', properties={}), Node(id='Sustainable Energy', type='Concept', properties={}), Node(id='Artificial Intelligence', type='Concept', properties={}), Node(id='Autonomous Driving', type='Concept', properties={}), Node(id='Tunnel Systems', type='Concept', properties={}), Node(id='Electric Vehicles', type='Concept', properties={}), Node(id='Space Exploration', type='Concept', properties={})]\n",
      "Relationships: [Relationship(source=Node(id='Elon Reeve Musk', type='Person', properties={}), target=Node(id='Maye Musk', type='Person', properties={}), type='CHILD_OF', properties={}), Relationship(source=Node(id='Elon Reeve Musk', type='Person', properties={}), target=Node(id='Errol Musk', type='Person', properties={}), type='CHILD_OF', properties={}), Relationship(source=Node(id='Elon Reeve Musk', type='Person', properties={}), target=Node(id='Pretoria, South Africa', type='Place', properties={}), type='BORN_IN', properties={}), Relationship(source=Node(id='Elon Reeve Musk', type='Person', properties={}), target=Node(id='June 28, 1971', type='Date', properties={}), type='BIRTH_DATE', properties={}), Relationship(source=Node(id='Elon Reeve Musk', type='Person', properties={}), target=Node(id=\"Queen'S University\", type='Organization', properties={}), type='ATTENDED', properties={}), Relationship(source=Node(id='Elon Reeve Musk', type='Person', properties={}), target=Node(id='University Of Pennsylvania', type='Organization', properties={}), type='GRADUATED_FROM', properties={}), Relationship(source=Node(id='Elon Reeve Musk', type='Person', properties={}), target=Node(id='Stanford University', type='Organization', properties={}), type='ATTENDED', properties={}), Relationship(source=Node(id='Elon Reeve Musk', type='Person', properties={}), target=Node(id='Tesla Inc.', type='Organization', properties={}), type='CEO', properties={}), Relationship(source=Node(id='Elon Reeve Musk', type='Person', properties={}), target=Node(id='Spacex', type='Organization', properties={}), type='FOUNDER', properties={}), Relationship(source=Node(id='Elon Reeve Musk', type='Person', properties={}), target=Node(id='X', type='Organization', properties={}), type='OWNER', properties={}), Relationship(source=Node(id='Elon Reeve Musk', type='Person', properties={}), target=Node(id='Neuralink', type='Organization', properties={}), type='FOUNDER', properties={}), Relationship(source=Node(id='Elon Reeve Musk', type='Person', properties={}), target=Node(id='The Boring Company', type='Organization', properties={}), type='FOUNDER', properties={}), Relationship(source=Node(id='Elon Reeve Musk', type='Person', properties={}), target=Node(id='Xai', type='Organization', properties={}), type='FOUNDER', properties={}), Relationship(source=Node(id='Elon Reeve Musk', type='Person', properties={}), target=Node(id='Openai', type='Organization', properties={}), type='CO-FOUNDER', properties={}), Relationship(source=Node(id='Tesla Inc.', type='Organization', properties={}), target=Node(id='Model S', type='Product', properties={}), type='PRODUCES', properties={}), Relationship(source=Node(id='Tesla Inc.', type='Organization', properties={}), target=Node(id='Model 3', type='Product', properties={}), type='PRODUCES', properties={}), Relationship(source=Node(id='Tesla Inc.', type='Organization', properties={}), target=Node(id='Model X', type='Product', properties={}), type='PRODUCES', properties={}), Relationship(source=Node(id='Tesla Inc.', type='Organization', properties={}), target=Node(id='Model Y', type='Product', properties={}), type='PRODUCES', properties={}), Relationship(source=Node(id='Tesla Inc.', type='Organization', properties={}), target=Node(id='Cybertruck', type='Product', properties={}), type='PRODUCES', properties={}), Relationship(source=Node(id='Tesla Inc.', type='Organization', properties={}), target=Node(id='Powerwall', type='Product', properties={}), type='PRODUCES', properties={}), Relationship(source=Node(id='Tesla Inc.', type='Organization', properties={}), target=Node(id='Powerpack', type='Product', properties={}), type='PRODUCES', properties={}), Relationship(source=Node(id='Tesla Inc.', type='Organization', properties={}), target=Node(id='Solar Panels', type='Product', properties={}), type='PRODUCES', properties={}), Relationship(source=Node(id='Tesla Inc.', type='Organization', properties={}), target=Node(id='Solar Roof Tiles', type='Product', properties={}), type='PRODUCES', properties={}), Relationship(source=Node(id='Tesla Inc.', type='Organization', properties={}), target=Node(id='Full Self-Driving', type='Product', properties={}), type='DEVELOPS', properties={}), Relationship(source=Node(id='Tesla Inc.', type='Organization', properties={}), target=Node(id='Ai5 Chips', type='Product', properties={}), type='DEVELOPS', properties={}), Relationship(source=Node(id='Tesla Inc.', type='Organization', properties={}), target=Node(id='Ai4 Chips', type='Product', properties={}), type='DEVELOPS', properties={}), Relationship(source=Node(id='Tesla Inc.', type='Organization', properties={}), target=Node(id='Robotaxi', type='Product', properties={}), type='DEVELOPS', properties={}), Relationship(source=Node(id='Spacex', type='Organization', properties={}), target=Node(id='Falcon 9', type='Product', properties={}), type='DEVELOPS', properties={}), Relationship(source=Node(id='Spacex', type='Organization', properties={}), target=Node(id='Falcon Heavy', type='Product', properties={}), type='DEVELOPS', properties={}), Relationship(source=Node(id='Spacex', type='Organization', properties={}), target=Node(id='Starship', type='Product', properties={}), type='DEVELOPS', properties={}), Relationship(source=Node(id='Spacex', type='Organization', properties={}), target=Node(id='Starlink', type='Organization', properties={}), type='OPERATES', properties={}), Relationship(source=Node(id='Spacex', type='Organization', properties={}), target=Node(id='Mars Colonization', type='Concept', properties={}), type='PURPOSE', properties={}), Relationship(source=Node(id='Starlink', type='Organization', properties={}), target=Node(id='Spacex', type='Organization', properties={}), type='SUBSIDIARY_OF', properties={}), Relationship(source=Node(id='Falcon Heavy', type='Product', properties={}), target=Node(id='United States Space Force', type='Organization', properties={}), type='USED_BY', properties={}), Relationship(source=Node(id='Elon Reeve Musk', type='Person', properties={}), target=Node(id='Donald Trump', type='Person', properties={}), type='ADVISER_TO', properties={}), Relationship(source=Node(id='Elon Reeve Musk', type='Person', properties={}), target=Node(id='Department Of Government Efficiency', type='Organization', properties={}), type='ADVISED', properties={}), Relationship(source=Node(id='Elon Reeve Musk', type='Person', properties={}), target=Node(id=\"Time Magazine'S 100 Most Influential People Of 2025\", type='Award', properties={}), type='RECEIVED', properties={}), Relationship(source=Node(id='Elon Reeve Musk', type='Person', properties={}), target=Node(id='2025 Wash100 Award', type='Award', properties={}), type='RECEIVED', properties={}), Relationship(source=Node(id='Elon Reeve Musk', type='Person', properties={}), target=Node(id='Sustainable Energy', type='Concept', properties={}), type='ADVOCATES', properties={}), Relationship(source=Node(id='Elon Reeve Musk', type='Person', properties={}), target=Node(id='Artificial Intelligence', type='Concept', properties={}), type='ADVOCATES', properties={}), Relationship(source=Node(id='Elon Reeve Musk', type='Person', properties={}), target=Node(id='Autonomous Driving', type='Concept', properties={}), type='ADVOCATES', properties={}), Relationship(source=Node(id='Elon Reeve Musk', type='Person', properties={}), target=Node(id='Tunnel Systems', type='Concept', properties={}), type='ADVOCATES', properties={}), Relationship(source=Node(id='Elon Reeve Musk', type='Person', properties={}), target=Node(id='Electric Vehicles', type='Concept', properties={}), type='ADVOCATES', properties={}), Relationship(source=Node(id='Elon Reeve Musk', type='Person', properties={}), target=Node(id='Space Exploration', type='Concept', properties={}), type='ADVOCATES', properties={})]\n"
     ]
    }
   ],
   "source": [
    "# Check the graph document\n",
    "print(f\"Nodes: {graph_documents[0].nodes}\")\n",
    "print(f\"Relationships: {graph_documents[0].relationships}\")"
   ]
  },
  {
   "cell_type": "markdown",
   "id": "006967f4",
   "metadata": {},
   "source": [
    "## Visualize Graph"
   ]
  },
  {
   "cell_type": "code",
   "execution_count": 6,
   "id": "5119483e",
   "metadata": {},
   "outputs": [
    {
     "name": "stdout",
     "output_type": "stream",
     "text": [
      "Graph saved to e:\\NLP Learning\\NLP-Learning\\Knowledge Graph Visualizer\\knowledge_graph.html\n"
     ]
    }
   ],
   "source": [
    "from pyvis.network import Network\n",
    "from pathlib import Path\n",
    "\n",
    "def visualize_graph(graph_documents):\n",
    "\n",
    "    # Create network\n",
    "    net = Network(height=\"1200px\", width=\"100%\", directed=True,\n",
    "                  notebook=False, bgcolor=\"#222222\", font_color=\"white\")\n",
    "    \n",
    "    # Define the nodes and relationships\n",
    "    nodes = graph_documents[0].nodes\n",
    "    relationships = graph_documents[0].relationships\n",
    "\n",
    "    # Build lookup for valid nodes\n",
    "    node_dict = {node.id: node for node in nodes}\n",
    "    \n",
    "    # Filter out invalid edges and collect valid node IDs\n",
    "    valid_edges = []\n",
    "    valid_node_ids = set()\n",
    "    for rel in relationships:\n",
    "        if rel.source.id in node_dict and rel.target.id in node_dict:\n",
    "            valid_edges.append(rel)\n",
    "            valid_node_ids.update([rel.source.id, rel.target.id])\n",
    "\n",
    "\n",
    "    # Track which nodes are part of any relationship\n",
    "    connected_node_ids = set()\n",
    "    for rel in relationships:\n",
    "        connected_node_ids.add(rel.source.id)\n",
    "        connected_node_ids.add(rel.target.id)\n",
    "\n",
    "    # Add valid nodes\n",
    "    for node_id in valid_node_ids:\n",
    "        node = node_dict[node_id]\n",
    "        try:\n",
    "            net.add_node(node.id, label=node.id, title=node.type, group=node.type)\n",
    "        except:\n",
    "            continue  # skip if error\n",
    "\n",
    "    # Add valid edges\n",
    "    for rel in valid_edges:\n",
    "        try:\n",
    "            net.add_edge(rel.source.id, rel.target.id, label=rel.type.lower())\n",
    "        except:\n",
    "            continue  # skip if error\n",
    "\n",
    "    # Configure physics\n",
    "    net.set_options(\"\"\"\n",
    "            {\n",
    "                \"physics\": {\n",
    "                    \"forceAtlas2Based\": {\n",
    "                        \"gravitationalConstant\": -100,\n",
    "                        \"centralGravity\": 0.01,\n",
    "                        \"springLength\": 200,\n",
    "                        \"springConstant\": 0.08\n",
    "                    },\n",
    "                    \"minVelocity\": 0.75,\n",
    "                    \"solver\": \"forceAtlas2Based\"\n",
    "                }\n",
    "            }\n",
    "            \"\"\")\n",
    "\n",
    "    # Save the graph\n",
    "    current_dir = Path.cwd()\n",
    "    output_path = current_dir / \"knowledge_graph.html\"\n",
    "    net.save_graph(str(output_path))\n",
    "    print(f\"Graph saved to {output_path}\")\n",
    "\n",
    "    # Try to open in browser\n",
    "    try:\n",
    "        import webbrowser\n",
    "        webbrowser.open(f\"file://{output_path}\")\n",
    "    except:\n",
    "        print(\"Could not open browser automatically\")\n",
    "        \n",
    "# Run the function\n",
    "visualize_graph(graph_documents)"
   ]
  },
  {
   "cell_type": "markdown",
   "id": "04547db1",
   "metadata": {},
   "source": [
    "### Extract Specific Types of Nodes"
   ]
  },
  {
   "cell_type": "code",
   "execution_count": 13,
   "id": "13062de9",
   "metadata": {},
   "outputs": [
    {
     "name": "stdout",
     "output_type": "stream",
     "text": [
      "Distinct Node Types: {'Place', 'Concept', 'Product', 'Award', 'Person', 'Value', 'Date', 'Organization'}\n"
     ]
    }
   ],
   "source": [
    "# Print distinct node types\n",
    "node_types = set(node.type for node in graph_documents[0].nodes)\n",
    "print(f\"Distinct Node Types: {node_types}\")"
   ]
  },
  {
   "cell_type": "code",
   "execution_count": null,
   "id": "b43b16e0",
   "metadata": {},
   "outputs": [],
   "source": [
    "# Select the allowed nodes\n",
    "allowed_nodes = [\"Person\", \"Organization\", \"Award\", \"ResearchField\"]\n",
    "\n",
    "# Initialize the graph transformer with the allowed nodes\n",
    "graph_transformer_nodes_defined = LLMGraphTransformer(llm=llm, allowed_nodes=allowed_nodes)\n",
    "\n",
    "# Convert the documents to graph documents with the allowed nodes\n",
    "graph_documents_nodes_defined = await graph_transformer_nodes_defined.aconvert_to_graph_documents(documents)"
   ]
  },
  {
   "cell_type": "markdown",
   "id": "7c96abd6",
   "metadata": {},
   "source": [
    "### Extract Specific Types of Relationship"
   ]
  },
  {
   "cell_type": "code",
   "execution_count": 14,
   "id": "008ed557",
   "metadata": {},
   "outputs": [],
   "source": [
    "# Select the allowed relationships\n",
    "allowed_nodes = [\"Person\", \"Organization\", \"Award\", \"ResearchField\"]\n",
    "\n",
    "allowed_relationships = [\n",
    "    (\"Person\", \"WORKS_AT\", \"Organization\"),\n",
    "    (\"Person\", \"SPOUSE\", \"Person\"),\n",
    "    (\"Person\", \"AWARD\", \"Award\"),\n",
    "    (\"Person\", \"FIELD_OF_RESEARCH\", \"ResearchField\")\n",
    "]\n",
    "\n",
    "# Initialize the graph transformer with the allowed relationships\n",
    "graph_transformer_rel_defined = LLMGraphTransformer(\n",
    "  llm=llm,\n",
    "  allowed_nodes=allowed_nodes,\n",
    "  allowed_relationships=allowed_relationships\n",
    ")\n",
    "\n",
    "# Convert the documents to graph documents with the allowed relationships\n",
    "graph_documents_rel_defined = await graph_transformer_rel_defined.aconvert_to_graph_documents(documents)"
   ]
  },
  {
   "cell_type": "code",
   "execution_count": 15,
   "id": "ae86c879",
   "metadata": {},
   "outputs": [
    {
     "name": "stdout",
     "output_type": "stream",
     "text": [
      "Graph saved to e:\\NLP Learning\\NLP-Learning\\Knowledge Graph Visualizer\\knowledge_graph.html\n"
     ]
    }
   ],
   "source": [
    "# Visualize graph\n",
    "visualize_graph(graph_documents_rel_defined)"
   ]
  }
 ],
 "metadata": {
  "kernelspec": {
   "display_name": ".venv",
   "language": "python",
   "name": "python3"
  },
  "language_info": {
   "codemirror_mode": {
    "name": "ipython",
    "version": 3
   },
   "file_extension": ".py",
   "mimetype": "text/x-python",
   "name": "python",
   "nbconvert_exporter": "python",
   "pygments_lexer": "ipython3",
   "version": "3.11.6"
  }
 },
 "nbformat": 4,
 "nbformat_minor": 5
}
